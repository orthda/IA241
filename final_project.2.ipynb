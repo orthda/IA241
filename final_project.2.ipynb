{
 "cells": [
  {
   "cell_type": "markdown",
   "id": "ab0fd0d6",
   "metadata": {},
   "source": [
    "# COVID-19 Data in Aruba"
   ]
  },
  {
   "cell_type": "markdown",
   "id": "ece4adaa",
   "metadata": {},
   "source": [
    "## Background of COVID-19"
   ]
  },
  {
   "cell_type": "markdown",
   "id": "b6559f3b",
   "metadata": {},
   "source": [
    "## The Coronavirus, also known as COVID-19 is a global pandemic that hit in early 2020. It affected all areas of the world and caused countries to shutdown. This project will show the affects of this pandemic in the country of Aruba, including cases and deaths."
   ]
  },
  {
   "cell_type": "markdown",
   "id": "2a2ee4ac",
   "metadata": {},
   "source": [
    "## Data Source"
   ]
  },
  {
   "cell_type": "markdown",
   "id": "afb00a98",
   "metadata": {},
   "source": [
    "The data is from [European Centre for Disease Prevention and Control](https://www.ecdc.europa.eu/en/publications-data/download-todays-data-geographic-distribution-covid-19-cases-worldwide)"
   ]
  },
  {
   "cell_type": "markdown",
   "id": "87b94507",
   "metadata": {},
   "source": [
    "![Flag of Aruba](https://upload.wikimedia.org/wikipedia/commons/f/f6/Flag_of_Aruba.svg)"
   ]
  },
  {
   "cell_type": "markdown",
   "id": "b4cc5d94",
   "metadata": {},
   "source": [
    "## Import Data from S3 Bucket"
   ]
  },
  {
   "cell_type": "code",
   "execution_count": 6,
   "id": "d01f341f",
   "metadata": {},
   "outputs": [],
   "source": [
    "%matplotlib inline\n",
    "import pandas"
   ]
  },
  {
   "cell_type": "code",
   "execution_count": 9,
   "id": "45c8ca53",
   "metadata": {},
   "outputs": [
    {
     "data": {
      "text/html": [
       "<div>\n",
       "<style scoped>\n",
       "    .dataframe tbody tr th:only-of-type {\n",
       "        vertical-align: middle;\n",
       "    }\n",
       "\n",
       "    .dataframe tbody tr th {\n",
       "        vertical-align: top;\n",
       "    }\n",
       "\n",
       "    .dataframe thead th {\n",
       "        text-align: right;\n",
       "    }\n",
       "</style>\n",
       "<table border=\"1\" class=\"dataframe\">\n",
       "  <thead>\n",
       "    <tr style=\"text-align: right;\">\n",
       "      <th></th>\n",
       "      <th>dateRep</th>\n",
       "      <th>day</th>\n",
       "      <th>month</th>\n",
       "      <th>year</th>\n",
       "      <th>cases</th>\n",
       "      <th>deaths</th>\n",
       "      <th>countriesAndTerritories</th>\n",
       "      <th>geoId</th>\n",
       "      <th>countryterritoryCode</th>\n",
       "      <th>popData2019</th>\n",
       "      <th>continentExp</th>\n",
       "      <th>Cumulative_number_for_14_days_of_COVID-19_cases_per_100000</th>\n",
       "    </tr>\n",
       "  </thead>\n",
       "  <tbody>\n",
       "    <tr>\n",
       "      <th>2667</th>\n",
       "      <td>2020-12-14</td>\n",
       "      <td>14</td>\n",
       "      <td>12</td>\n",
       "      <td>2020</td>\n",
       "      <td>5</td>\n",
       "      <td>0</td>\n",
       "      <td>Aruba</td>\n",
       "      <td>AW</td>\n",
       "      <td>ABW</td>\n",
       "      <td>106310.0</td>\n",
       "      <td>America</td>\n",
       "      <td>198.476155</td>\n",
       "    </tr>\n",
       "    <tr>\n",
       "      <th>2668</th>\n",
       "      <td>2020-12-13</td>\n",
       "      <td>13</td>\n",
       "      <td>12</td>\n",
       "      <td>2020</td>\n",
       "      <td>13</td>\n",
       "      <td>0</td>\n",
       "      <td>Aruba</td>\n",
       "      <td>AW</td>\n",
       "      <td>ABW</td>\n",
       "      <td>106310.0</td>\n",
       "      <td>America</td>\n",
       "      <td>198.476155</td>\n",
       "    </tr>\n",
       "    <tr>\n",
       "      <th>2669</th>\n",
       "      <td>2020-12-12</td>\n",
       "      <td>12</td>\n",
       "      <td>12</td>\n",
       "      <td>2020</td>\n",
       "      <td>20</td>\n",
       "      <td>0</td>\n",
       "      <td>Aruba</td>\n",
       "      <td>AW</td>\n",
       "      <td>ABW</td>\n",
       "      <td>106310.0</td>\n",
       "      <td>America</td>\n",
       "      <td>209.763898</td>\n",
       "    </tr>\n",
       "    <tr>\n",
       "      <th>2670</th>\n",
       "      <td>2020-12-11</td>\n",
       "      <td>11</td>\n",
       "      <td>12</td>\n",
       "      <td>2020</td>\n",
       "      <td>15</td>\n",
       "      <td>1</td>\n",
       "      <td>Aruba</td>\n",
       "      <td>AW</td>\n",
       "      <td>ABW</td>\n",
       "      <td>106310.0</td>\n",
       "      <td>America</td>\n",
       "      <td>206.941962</td>\n",
       "    </tr>\n",
       "    <tr>\n",
       "      <th>2671</th>\n",
       "      <td>2020-12-10</td>\n",
       "      <td>10</td>\n",
       "      <td>12</td>\n",
       "      <td>2020</td>\n",
       "      <td>12</td>\n",
       "      <td>0</td>\n",
       "      <td>Aruba</td>\n",
       "      <td>AW</td>\n",
       "      <td>ABW</td>\n",
       "      <td>106310.0</td>\n",
       "      <td>America</td>\n",
       "      <td>205.060672</td>\n",
       "    </tr>\n",
       "    <tr>\n",
       "      <th>2672</th>\n",
       "      <td>2020-12-09</td>\n",
       "      <td>9</td>\n",
       "      <td>12</td>\n",
       "      <td>2020</td>\n",
       "      <td>18</td>\n",
       "      <td>0</td>\n",
       "      <td>Aruba</td>\n",
       "      <td>AW</td>\n",
       "      <td>ABW</td>\n",
       "      <td>106310.0</td>\n",
       "      <td>America</td>\n",
       "      <td>219.170351</td>\n",
       "    </tr>\n",
       "    <tr>\n",
       "      <th>2673</th>\n",
       "      <td>2020-12-08</td>\n",
       "      <td>8</td>\n",
       "      <td>12</td>\n",
       "      <td>2020</td>\n",
       "      <td>1</td>\n",
       "      <td>0</td>\n",
       "      <td>Aruba</td>\n",
       "      <td>AW</td>\n",
       "      <td>ABW</td>\n",
       "      <td>106310.0</td>\n",
       "      <td>America</td>\n",
       "      <td>215.407770</td>\n",
       "    </tr>\n",
       "    <tr>\n",
       "      <th>2674</th>\n",
       "      <td>2020-12-07</td>\n",
       "      <td>7</td>\n",
       "      <td>12</td>\n",
       "      <td>2020</td>\n",
       "      <td>8</td>\n",
       "      <td>0</td>\n",
       "      <td>Aruba</td>\n",
       "      <td>AW</td>\n",
       "      <td>ABW</td>\n",
       "      <td>106310.0</td>\n",
       "      <td>America</td>\n",
       "      <td>220.110996</td>\n",
       "    </tr>\n",
       "    <tr>\n",
       "      <th>2675</th>\n",
       "      <td>2020-12-06</td>\n",
       "      <td>6</td>\n",
       "      <td>12</td>\n",
       "      <td>2020</td>\n",
       "      <td>15</td>\n",
       "      <td>0</td>\n",
       "      <td>Aruba</td>\n",
       "      <td>AW</td>\n",
       "      <td>ABW</td>\n",
       "      <td>106310.0</td>\n",
       "      <td>America</td>\n",
       "      <td>219.170351</td>\n",
       "    </tr>\n",
       "    <tr>\n",
       "      <th>2676</th>\n",
       "      <td>2020-12-05</td>\n",
       "      <td>5</td>\n",
       "      <td>12</td>\n",
       "      <td>2020</td>\n",
       "      <td>19</td>\n",
       "      <td>0</td>\n",
       "      <td>Aruba</td>\n",
       "      <td>AW</td>\n",
       "      <td>ABW</td>\n",
       "      <td>106310.0</td>\n",
       "      <td>America</td>\n",
       "      <td>229.517449</td>\n",
       "    </tr>\n",
       "  </tbody>\n",
       "</table>\n",
       "</div>"
      ],
      "text/plain": [
       "        dateRep  day  month  year  cases  deaths countriesAndTerritories  \\\n",
       "2667 2020-12-14   14     12  2020      5       0                   Aruba   \n",
       "2668 2020-12-13   13     12  2020     13       0                   Aruba   \n",
       "2669 2020-12-12   12     12  2020     20       0                   Aruba   \n",
       "2670 2020-12-11   11     12  2020     15       1                   Aruba   \n",
       "2671 2020-12-10   10     12  2020     12       0                   Aruba   \n",
       "2672 2020-12-09    9     12  2020     18       0                   Aruba   \n",
       "2673 2020-12-08    8     12  2020      1       0                   Aruba   \n",
       "2674 2020-12-07    7     12  2020      8       0                   Aruba   \n",
       "2675 2020-12-06    6     12  2020     15       0                   Aruba   \n",
       "2676 2020-12-05    5     12  2020     19       0                   Aruba   \n",
       "\n",
       "     geoId countryterritoryCode  popData2019 continentExp  \\\n",
       "2667    AW                  ABW     106310.0      America   \n",
       "2668    AW                  ABW     106310.0      America   \n",
       "2669    AW                  ABW     106310.0      America   \n",
       "2670    AW                  ABW     106310.0      America   \n",
       "2671    AW                  ABW     106310.0      America   \n",
       "2672    AW                  ABW     106310.0      America   \n",
       "2673    AW                  ABW     106310.0      America   \n",
       "2674    AW                  ABW     106310.0      America   \n",
       "2675    AW                  ABW     106310.0      America   \n",
       "2676    AW                  ABW     106310.0      America   \n",
       "\n",
       "      Cumulative_number_for_14_days_of_COVID-19_cases_per_100000  \n",
       "2667                                         198.476155           \n",
       "2668                                         198.476155           \n",
       "2669                                         209.763898           \n",
       "2670                                         206.941962           \n",
       "2671                                         205.060672           \n",
       "2672                                         219.170351           \n",
       "2673                                         215.407770           \n",
       "2674                                         220.110996           \n",
       "2675                                         219.170351           \n",
       "2676                                         229.517449           "
      ]
     },
     "execution_count": 9,
     "metadata": {},
     "output_type": "execute_result"
    }
   ],
   "source": [
    "df= pandas.read_excel ('s3://wei-ia241-2021spring-orth/COVID-19-geographic-disbtribution-worldwide-2020-12-14.xls')\n",
    "Aruba_data = df.loc[ df['countriesAndTerritories']=='Aruba']\n",
    "\n",
    "Aruba_data[:10]"
   ]
  },
  {
   "cell_type": "markdown",
   "id": "def5f40a",
   "metadata": {},
   "source": [
    "## Question 1: How many cases have been confirmed as of December 2020 in Aruba?"
   ]
  },
  {
   "cell_type": "code",
   "execution_count": 10,
   "id": "6c789b2b",
   "metadata": {},
   "outputs": [
    {
     "data": {
      "text/plain": [
       "5049"
      ]
     },
     "execution_count": 10,
     "metadata": {},
     "output_type": "execute_result"
    }
   ],
   "source": [
    "Aruba_data.sum()['cases']"
   ]
  },
  {
   "cell_type": "code",
   "execution_count": 11,
   "id": "f33f2ebe",
   "metadata": {},
   "outputs": [
    {
     "data": {
      "text/plain": [
       "<AxesSubplot:xlabel='month'>"
      ]
     },
     "execution_count": 11,
     "metadata": {},
     "output_type": "execute_result"
    },
    {
     "data": {
      "image/png": "[encoded data removed]",
      "text/plain": [
       "<Figure size 432x288 with 1 Axes>"
      ]
     },
     "metadata": {
      "needs_background": "light"
     },
     "output_type": "display_data"
    }
   ],
   "source": [
    "sum_cases_per_day = Aruba_data.groupby('month').sum()['cases']\n",
    "sum_cases_per_day.plot()"
   ]
  },
  {
   "cell_type": "markdown",
   "id": "88cefc38",
   "metadata": {},
   "source": [
    "## The total number of cases in Aruba was 5049. The number of confirmed cases spiked to almost 2000 in the summer months between July and September."
   ]
  },
  {
   "cell_type": "markdown",
   "id": "daf3b722",
   "metadata": {},
   "source": [
    "## Question 2: How many deaths have been confirmed as of December 2020 in Aruba?"
   ]
  },
  {
   "cell_type": "code",
   "execution_count": 15,
   "id": "eef3b916",
   "metadata": {},
   "outputs": [
    {
     "data": {
      "text/plain": [
       "46"
      ]
     },
     "execution_count": 15,
     "metadata": {},
     "output_type": "execute_result"
    }
   ],
   "source": [
    "Aruba_data.sum()['deaths']"
   ]
  },
  {
   "cell_type": "code",
   "execution_count": 18,
   "id": "2f9093de",
   "metadata": {},
   "outputs": [
    {
     "data": {
      "text/plain": [
       "<AxesSubplot:xlabel='month'>"
      ]
     },
     "execution_count": 18,
     "metadata": {},
     "output_type": "execute_result"
    },
    {
     "data": {
      "image/png": "[encoded data removed]",
      "text/plain": [
       "<Figure size 432x288 with 1 Axes>"
      ]
     },
     "metadata": {
      "needs_background": "light"
     },
     "output_type": "display_data"
    }
   ],
   "source": [
    "sum_deaths_per_day = Aruba_data.groupby('month').sum()['deaths']\n",
    "sum_deaths_per_day.plot.bar()"
   ]
  },
  {
   "cell_type": "markdown",
   "id": "560a49ef",
   "metadata": {},
   "source": [
    "## The total number of death in Aruba as of December 2020 was 46. The most deaths occurred in September at 16 deaths."
   ]
  },
  {
   "cell_type": "markdown",
   "id": "299ebb04",
   "metadata": {},
   "source": [
    "## Question 3: What month had the most confirmed cases in Aruba?"
   ]
  },
  {
   "cell_type": "code",
   "execution_count": 22,
   "id": "488702c3",
   "metadata": {},
   "outputs": [
    {
     "data": {
      "text/plain": [
       "<AxesSubplot:xlabel='month'>"
      ]
     },
     "execution_count": 22,
     "metadata": {},
     "output_type": "execute_result"
    },
    {
     "data": {
      "image/png": "[encoded data removed]",
      "text/plain": [
       "<Figure size 432x288 with 1 Axes>"
      ]
     },
     "metadata": {
      "needs_background": "light"
     },
     "output_type": "display_data"
    }
   ],
   "source": [
    "sum_cases_per_day = Aruba_data.groupby('month').sum()['cases']\n",
    "sum_cases_per_day.plot.bar()"
   ]
  },
  {
   "cell_type": "markdown",
   "id": "052775be",
   "metadata": {},
   "source": [
    "## The month with the most confirmed cases in Aruba is September. This month had around 1900 confirmed cases, making it the highest of any other month."
   ]
  },
  {
   "cell_type": "markdown",
   "id": "eced960c",
   "metadata": {},
   "source": [
    "## Author Information"
   ]
  },
  {
   "cell_type": "markdown",
   "id": "3c1844b7",
   "metadata": {},
   "source": [
    "## Danielle Orth\n",
    "## orthda@dukes.jmu.edu"
   ]
  },
  {
   "cell_type": "markdown",
   "id": "4ab43e02",
   "metadata": {},
   "source": [
    "## Conclusions and Limitations"
   ]
  },
  {
   "cell_type": "markdown",
   "id": "a6c0554d",
   "metadata": {
    "scrolled": true
   },
   "source": [
    "## In Aruba as of December 2020 there were 5049 confirmed cases and 46 deaths. The month with the most cases was September with around 1900 cases. A limitation of this project was not being familar with the country and its battle with COVID-19, although the data source helped fill these gaps."
   ]
  }
 ],
 "metadata": {
  "kernelspec": {
   "display_name": "conda_python3",
   "language": "python",
   "name": "conda_python3"
  },
  "language_info": {
   "codemirror_mode": {
    "name": "ipython",
    "version": 3
   },
   "file_extension": ".py",
   "mimetype": "text/x-python",
   "name": "python",
   "nbconvert_exporter": "python",
   "pygments_lexer": "ipython3",
   "version": "3.6.13"
  }
 },
 "nbformat": 4,
 "nbformat_minor": 5
}
